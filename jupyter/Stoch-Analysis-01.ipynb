{
 "cells": [
  {
   "cell_type": "code",
   "execution_count": 1,
   "metadata": {},
   "outputs": [],
   "source": [
    "import numpy as np\n",
    "import pandas as pd\n",
    "import yfinance\n",
    "import ta"
   ]
  },
  {
   "cell_type": "markdown",
   "metadata": {},
   "source": [
    "# Base Strategy\n",
    "The base strategy for a simple stochrsi strategy:\n",
    "### Part 1: Buying Requirements\n",
    "  1. The close price must be above the 200 sma (Simple Moving Average)\n",
    "  2. The Stochastic RSI K must below certain percentage (n%)\n",
    "  3. Placing a n % limit buy order the next period with an order limit of n periods\n",
    "### Part 2: Selling Requirements\n",
    "  1. The trailing stop is equal to n% of the limit buy percentage\n",
    "  2. Otherwise sell at trailing stop"
   ]
  },
  {
   "cell_type": "markdown",
   "metadata": {},
   "source": [
    "## Getting Price Data\n",
    "Getting the price data of symbol using the yfinance library"
   ]
  },
  {
   "cell_type": "code",
   "execution_count": 2,
   "metadata": {},
   "outputs": [],
   "source": [
    "# Starting with the analysis with AAPL\n",
    "# download AAPL's daily price from 2010-01-01 to 2020-12-31 (10 years)\n",
    "symbol = 'AAPL'\n",
    "ticker = yfinance.Ticker(symbol)\n",
    "prices = ticker.history(start='2010-01-01', end='2020-12-31')"
   ]
  },
  {
   "cell_type": "code",
   "execution_count": 3,
   "metadata": {},
   "outputs": [
    {
     "data": {
      "text/html": [
       "<div>\n",
       "<style scoped>\n",
       "    .dataframe tbody tr th:only-of-type {\n",
       "        vertical-align: middle;\n",
       "    }\n",
       "\n",
       "    .dataframe tbody tr th {\n",
       "        vertical-align: top;\n",
       "    }\n",
       "\n",
       "    .dataframe thead th {\n",
       "        text-align: right;\n",
       "    }\n",
       "</style>\n",
       "<table border=\"1\" class=\"dataframe\">\n",
       "  <thead>\n",
       "    <tr style=\"text-align: right;\">\n",
       "      <th></th>\n",
       "      <th>Open</th>\n",
       "      <th>High</th>\n",
       "      <th>Low</th>\n",
       "      <th>Close</th>\n",
       "      <th>Volume</th>\n",
       "      <th>Dividends</th>\n",
       "      <th>Stock Splits</th>\n",
       "    </tr>\n",
       "    <tr>\n",
       "      <th>Date</th>\n",
       "      <th></th>\n",
       "      <th></th>\n",
       "      <th></th>\n",
       "      <th></th>\n",
       "      <th></th>\n",
       "      <th></th>\n",
       "      <th></th>\n",
       "    </tr>\n",
       "  </thead>\n",
       "  <tbody>\n",
       "    <tr>\n",
       "      <th>2010-01-04</th>\n",
       "      <td>6.508335</td>\n",
       "      <td>6.540963</td>\n",
       "      <td>6.476316</td>\n",
       "      <td>6.526021</td>\n",
       "      <td>493729600</td>\n",
       "      <td>0.0</td>\n",
       "      <td>0.0</td>\n",
       "    </tr>\n",
       "    <tr>\n",
       "      <th>2010-01-05</th>\n",
       "      <td>6.544014</td>\n",
       "      <td>6.574203</td>\n",
       "      <td>6.502847</td>\n",
       "      <td>6.537305</td>\n",
       "      <td>601904800</td>\n",
       "      <td>0.0</td>\n",
       "      <td>0.0</td>\n",
       "    </tr>\n",
       "    <tr>\n",
       "      <th>2010-01-06</th>\n",
       "      <td>6.537303</td>\n",
       "      <td>6.563223</td>\n",
       "      <td>6.426610</td>\n",
       "      <td>6.433319</td>\n",
       "      <td>552160000</td>\n",
       "      <td>0.0</td>\n",
       "      <td>0.0</td>\n",
       "    </tr>\n",
       "    <tr>\n",
       "      <th>2010-01-07</th>\n",
       "      <td>6.457105</td>\n",
       "      <td>6.464728</td>\n",
       "      <td>6.374771</td>\n",
       "      <td>6.421426</td>\n",
       "      <td>477131200</td>\n",
       "      <td>0.0</td>\n",
       "      <td>0.0</td>\n",
       "    </tr>\n",
       "    <tr>\n",
       "      <th>2010-01-08</th>\n",
       "      <td>6.412888</td>\n",
       "      <td>6.464728</td>\n",
       "      <td>6.375076</td>\n",
       "      <td>6.464118</td>\n",
       "      <td>447610800</td>\n",
       "      <td>0.0</td>\n",
       "      <td>0.0</td>\n",
       "    </tr>\n",
       "    <tr>\n",
       "      <th>...</th>\n",
       "      <td>...</td>\n",
       "      <td>...</td>\n",
       "      <td>...</td>\n",
       "      <td>...</td>\n",
       "      <td>...</td>\n",
       "      <td>...</td>\n",
       "      <td>...</td>\n",
       "    </tr>\n",
       "    <tr>\n",
       "      <th>2020-12-23</th>\n",
       "      <td>130.808961</td>\n",
       "      <td>131.076190</td>\n",
       "      <td>129.443063</td>\n",
       "      <td>129.621231</td>\n",
       "      <td>88223700</td>\n",
       "      <td>0.0</td>\n",
       "      <td>0.0</td>\n",
       "    </tr>\n",
       "    <tr>\n",
       "      <th>2020-12-24</th>\n",
       "      <td>129.977546</td>\n",
       "      <td>132.095669</td>\n",
       "      <td>129.759794</td>\n",
       "      <td>130.620895</td>\n",
       "      <td>54930100</td>\n",
       "      <td>0.0</td>\n",
       "      <td>0.0</td>\n",
       "    </tr>\n",
       "    <tr>\n",
       "      <th>2020-12-28</th>\n",
       "      <td>132.620253</td>\n",
       "      <td>135.935997</td>\n",
       "      <td>132.145149</td>\n",
       "      <td>135.292648</td>\n",
       "      <td>124486200</td>\n",
       "      <td>0.0</td>\n",
       "      <td>0.0</td>\n",
       "    </tr>\n",
       "    <tr>\n",
       "      <th>2020-12-29</th>\n",
       "      <td>136.638756</td>\n",
       "      <td>137.371182</td>\n",
       "      <td>132.966676</td>\n",
       "      <td>133.491257</td>\n",
       "      <td>121047300</td>\n",
       "      <td>0.0</td>\n",
       "      <td>0.0</td>\n",
       "    </tr>\n",
       "    <tr>\n",
       "      <th>2020-12-30</th>\n",
       "      <td>134.193998</td>\n",
       "      <td>134.599811</td>\n",
       "      <td>132.036276</td>\n",
       "      <td>132.353012</td>\n",
       "      <td>96452100</td>\n",
       "      <td>0.0</td>\n",
       "      <td>0.0</td>\n",
       "    </tr>\n",
       "  </tbody>\n",
       "</table>\n",
       "<p>2768 rows × 7 columns</p>\n",
       "</div>"
      ],
      "text/plain": [
       "                  Open        High         Low       Close     Volume  \\\n",
       "Date                                                                    \n",
       "2010-01-04    6.508335    6.540963    6.476316    6.526021  493729600   \n",
       "2010-01-05    6.544014    6.574203    6.502847    6.537305  601904800   \n",
       "2010-01-06    6.537303    6.563223    6.426610    6.433319  552160000   \n",
       "2010-01-07    6.457105    6.464728    6.374771    6.421426  477131200   \n",
       "2010-01-08    6.412888    6.464728    6.375076    6.464118  447610800   \n",
       "...                ...         ...         ...         ...        ...   \n",
       "2020-12-23  130.808961  131.076190  129.443063  129.621231   88223700   \n",
       "2020-12-24  129.977546  132.095669  129.759794  130.620895   54930100   \n",
       "2020-12-28  132.620253  135.935997  132.145149  135.292648  124486200   \n",
       "2020-12-29  136.638756  137.371182  132.966676  133.491257  121047300   \n",
       "2020-12-30  134.193998  134.599811  132.036276  132.353012   96452100   \n",
       "\n",
       "            Dividends  Stock Splits  \n",
       "Date                                 \n",
       "2010-01-04        0.0           0.0  \n",
       "2010-01-05        0.0           0.0  \n",
       "2010-01-06        0.0           0.0  \n",
       "2010-01-07        0.0           0.0  \n",
       "2010-01-08        0.0           0.0  \n",
       "...               ...           ...  \n",
       "2020-12-23        0.0           0.0  \n",
       "2020-12-24        0.0           0.0  \n",
       "2020-12-28        0.0           0.0  \n",
       "2020-12-29        0.0           0.0  \n",
       "2020-12-30        0.0           0.0  \n",
       "\n",
       "[2768 rows x 7 columns]"
      ]
     },
     "execution_count": 3,
     "metadata": {},
     "output_type": "execute_result"
    }
   ],
   "source": [
    "prices"
   ]
  },
  {
   "cell_type": "markdown",
   "metadata": {},
   "source": [
    "## Technical Analysis\n",
    "Using the ta library to do technical analysis"
   ]
  },
  {
   "cell_type": "code",
   "execution_count": 4,
   "metadata": {},
   "outputs": [
    {
     "data": {
      "text/plain": [
       "Date\n",
       "2010-01-04           NaN\n",
       "2010-01-05           NaN\n",
       "2010-01-06           NaN\n",
       "2010-01-07           NaN\n",
       "2010-01-08           NaN\n",
       "                 ...    \n",
       "2020-12-23    125.017940\n",
       "2020-12-24    125.643974\n",
       "2020-12-28    126.873772\n",
       "2020-12-29    127.833031\n",
       "2020-12-30    128.765896\n",
       "Name: sma_12, Length: 2768, dtype: float64"
      ]
     },
     "execution_count": 4,
     "metadata": {},
     "output_type": "execute_result"
    }
   ],
   "source": [
    "# first getting the 200 SMA (Simple Moving Average)\n",
    "sma200 = ta.trend.sma_indicator(prices.Close)\n",
    "sma200"
   ]
  },
  {
   "cell_type": "code",
   "execution_count": 5,
   "metadata": {},
   "outputs": [
    {
     "data": {
      "text/plain": [
       "Date\n",
       "2010-01-04         NaN\n",
       "2010-01-05         NaN\n",
       "2010-01-06         NaN\n",
       "2010-01-07         NaN\n",
       "2010-01-08         NaN\n",
       "                ...   \n",
       "2020-12-23    0.823845\n",
       "2020-12-24    0.893412\n",
       "2020-12-28    0.893412\n",
       "2020-12-29    0.808878\n",
       "2020-12-30    0.597015\n",
       "Name: stochrsi_k, Length: 2768, dtype: float64"
      ]
     },
     "execution_count": 5,
     "metadata": {},
     "output_type": "execute_result"
    }
   ],
   "source": [
    "# Second getting the stockastic \n",
    "stoch = ta.momentum.stochrsi_k(prices.Close, window=10)\n",
    "stoch"
   ]
  },
  {
   "cell_type": "markdown",
   "metadata": {},
   "source": [
    "## Finding the Buy Signal"
   ]
  },
  {
   "cell_type": "code",
   "execution_count": 6,
   "metadata": {},
   "outputs": [
    {
     "data": {
      "text/plain": [
       "Date\n",
       "2010-01-04    False\n",
       "2010-01-05    False\n",
       "2010-01-06    False\n",
       "2010-01-07    False\n",
       "2010-01-08    False\n",
       "              ...  \n",
       "2020-12-23    False\n",
       "2020-12-24    False\n",
       "2020-12-28    False\n",
       "2020-12-29    False\n",
       "2020-12-30    False\n",
       "Length: 2768, dtype: bool"
      ]
     },
     "execution_count": 6,
     "metadata": {},
     "output_type": "execute_result"
    }
   ],
   "source": [
    "# checking if close is above 200 sma and stoch < n%\n",
    "signal = (prices.Close > sma200) & (stoch < .2)\n",
    "signal"
   ]
  },
  {
   "cell_type": "code",
   "execution_count": 7,
   "metadata": {},
   "outputs": [
    {
     "data": {
      "text/html": [
       "<div>\n",
       "<style scoped>\n",
       "    .dataframe tbody tr th:only-of-type {\n",
       "        vertical-align: middle;\n",
       "    }\n",
       "\n",
       "    .dataframe tbody tr th {\n",
       "        vertical-align: top;\n",
       "    }\n",
       "\n",
       "    .dataframe thead th {\n",
       "        text-align: right;\n",
       "    }\n",
       "</style>\n",
       "<table border=\"1\" class=\"dataframe\">\n",
       "  <thead>\n",
       "    <tr style=\"text-align: right;\">\n",
       "      <th></th>\n",
       "      <th>Close</th>\n",
       "      <th>Signal</th>\n",
       "    </tr>\n",
       "    <tr>\n",
       "      <th>Date</th>\n",
       "      <th></th>\n",
       "      <th></th>\n",
       "    </tr>\n",
       "  </thead>\n",
       "  <tbody>\n",
       "    <tr>\n",
       "      <th>2010-01-04</th>\n",
       "      <td>6.526021</td>\n",
       "      <td>False</td>\n",
       "    </tr>\n",
       "    <tr>\n",
       "      <th>2010-01-05</th>\n",
       "      <td>6.537305</td>\n",
       "      <td>False</td>\n",
       "    </tr>\n",
       "    <tr>\n",
       "      <th>2010-01-06</th>\n",
       "      <td>6.433319</td>\n",
       "      <td>False</td>\n",
       "    </tr>\n",
       "    <tr>\n",
       "      <th>2010-01-07</th>\n",
       "      <td>6.421426</td>\n",
       "      <td>False</td>\n",
       "    </tr>\n",
       "    <tr>\n",
       "      <th>2010-01-08</th>\n",
       "      <td>6.464118</td>\n",
       "      <td>False</td>\n",
       "    </tr>\n",
       "    <tr>\n",
       "      <th>...</th>\n",
       "      <td>...</td>\n",
       "      <td>...</td>\n",
       "    </tr>\n",
       "    <tr>\n",
       "      <th>2020-12-23</th>\n",
       "      <td>129.621231</td>\n",
       "      <td>False</td>\n",
       "    </tr>\n",
       "    <tr>\n",
       "      <th>2020-12-24</th>\n",
       "      <td>130.620895</td>\n",
       "      <td>False</td>\n",
       "    </tr>\n",
       "    <tr>\n",
       "      <th>2020-12-28</th>\n",
       "      <td>135.292648</td>\n",
       "      <td>False</td>\n",
       "    </tr>\n",
       "    <tr>\n",
       "      <th>2020-12-29</th>\n",
       "      <td>133.491257</td>\n",
       "      <td>False</td>\n",
       "    </tr>\n",
       "    <tr>\n",
       "      <th>2020-12-30</th>\n",
       "      <td>132.353012</td>\n",
       "      <td>False</td>\n",
       "    </tr>\n",
       "  </tbody>\n",
       "</table>\n",
       "<p>2768 rows × 2 columns</p>\n",
       "</div>"
      ],
      "text/plain": [
       "                 Close  Signal\n",
       "Date                          \n",
       "2010-01-04    6.526021   False\n",
       "2010-01-05    6.537305   False\n",
       "2010-01-06    6.433319   False\n",
       "2010-01-07    6.421426   False\n",
       "2010-01-08    6.464118   False\n",
       "...                ...     ...\n",
       "2020-12-23  129.621231   False\n",
       "2020-12-24  130.620895   False\n",
       "2020-12-28  135.292648   False\n",
       "2020-12-29  133.491257   False\n",
       "2020-12-30  132.353012   False\n",
       "\n",
       "[2768 rows x 2 columns]"
      ]
     },
     "execution_count": 7,
     "metadata": {},
     "output_type": "execute_result"
    }
   ],
   "source": [
    "# Create new df with close price and signal\n",
    "ndf = pd.concat([prices.Close, signal], axis=1)\n",
    "ndf.columns = ['Close', 'Signal']\n",
    "ndf"
   ]
  },
  {
   "cell_type": "code",
   "execution_count": 8,
   "metadata": {},
   "outputs": [
    {
     "data": {
      "text/plain": [
       "Date\n",
       "2010-03-22     6.168173\n",
       "2010-04-20     6.712673\n",
       "2010-04-29     7.372721\n",
       "2010-04-30     7.165508\n",
       "2010-05-03     7.309867\n",
       "                ...    \n",
       "2020-01-24    70.280653\n",
       "2020-01-28    70.143750\n",
       "2020-02-04    70.399876\n",
       "2020-06-15    76.115046\n",
       "2020-07-21    86.103500\n",
       "Name: Close, Length: 91, dtype: float64"
      ]
     },
     "execution_count": 8,
     "metadata": {},
     "output_type": "execute_result"
    }
   ],
   "source": [
    "# Limit order when there is a signal at 97% of the current close price\n",
    "buy_limit_price = ndf.loc[ndf.Signal, 'Close'] * .90\n",
    "buy_limit_price"
   ]
  },
  {
   "cell_type": "code",
   "execution_count": 9,
   "metadata": {},
   "outputs": [
    {
     "data": {
      "text/plain": [
       "Date\n",
       "2010-03-22      54\n",
       "2010-04-20      74\n",
       "2010-04-29      81\n",
       "2010-04-30      82\n",
       "2010-05-03      83\n",
       "              ... \n",
       "2020-01-24    2532\n",
       "2020-01-28    2534\n",
       "2020-02-04    2539\n",
       "2020-06-15    2630\n",
       "2020-07-21    2655\n",
       "Length: 91, dtype: int32"
      ]
     },
     "execution_count": 9,
     "metadata": {},
     "output_type": "execute_result"
    }
   ],
   "source": [
    "# Shifting the index of the buy price by 1\n",
    "idx = pd.Series(np.arange(len(ndf)), index=ndf.index)\n",
    "idx = idx.shift(-1).dropna().loc[ndf.Signal].astype(int)\n",
    "idx"
   ]
  },
  {
   "cell_type": "markdown",
   "metadata": {},
   "source": [
    "# Back Test"
   ]
  },
  {
   "cell_type": "code",
   "execution_count": 10,
   "metadata": {},
   "outputs": [],
   "source": [
    "# loop through signal and check the next 10 days \n",
    "# buy when the price is meet\n",
    "# for stocks with good momemtum \n",
    "# sell with trailing stop of n% of the drop percetage (in this case 10%)\n",
    "trail_stop_pct = 1 - .1 * .6\n",
    "wins = []\n",
    "num_of_trades = 0\n",
    "max_buy_period = 20\n",
    "current_i = 0\n",
    "for i, bp in zip(idx, buy_limit_price):\n",
    "  # Check if still holding \n",
    "  if current_i >= i:\n",
    "    continue\n",
    "  s, e = i, i + max_buy_period\n",
    "  data = prices.iloc[i: e, 1: 4]\n",
    "  # Check if the price is lower than buy_limit_price\n",
    "  has_brought = (data < bp).sum(1)\n",
    "  if has_brought.sum() == 0:\n",
    "    # if not brought continue\n",
    "    continue\n",
    "  # Since brought moving to sell logic\n",
    "  buy_date = has_brought.loc[(has_brought > 0)].index[0]\n",
    "  sect_data = prices.loc[buy_date:, ['Open', 'High', 'Low', 'Close']]\n",
    "  # Second loop \n",
    "  # looping through all prices to find selling date\n",
    "  stop_price = sect_data.High.iloc[0] * trail_stop_pct\n",
    "  current_high = sect_data.High.iloc[0]\n",
    "  for ii, (d, row) in enumerate(sect_data.iloc[1:].iterrows()):\n",
    "    # check sell\n",
    "    is_sell = False\n",
    "    if row.Open < stop_price:\n",
    "      # if open prices is less than stop limit sell\n",
    "      wp = row.Open / bp - 1\n",
    "      is_sell = True\n",
    "    elif row.Low < stop_price:\n",
    "      # if stop limit is triggered sell\n",
    "      wp = stop_price / bp - 1\n",
    "      is_sell = True\n",
    "    elif ii+2 == len(data):\n",
    "      print(i, len(data))\n",
    "      wp = row.Close / bp - 1\n",
    "      is_sell = True\n",
    "\n",
    "    if is_sell:\n",
    "      # Sell logic\n",
    "      wins.append(wp)\n",
    "      current_i = ii + 1 + i\n",
    "      num_of_trades += 1\n",
    "      break\n",
    "\n",
    "    # Increasing the stop_price when there is a new high\n",
    "    if current_high < row.High:\n",
    "      stop_price = row.High * stop_price"
   ]
  },
  {
   "cell_type": "code",
   "execution_count": 11,
   "metadata": {},
   "outputs": [
    {
     "name": "stdout",
     "output_type": "stream",
     "text": [
      "This Strategy has a gaining rate of : 47.91%\n",
      "Total trades of 12.\n",
      "Strategy has a win rate of 83.33% \n",
      "with an average win percentage of 4.80% \n",
      "with a biggest win of 10.33%\n",
      "with an average lost percentage of -3.47% \n",
      "with a biggest lost of -5.12%\n"
     ]
    }
   ],
   "source": [
    "# Checking the strategy gain\n",
    "gains = np.array(wins)\n",
    "strategy_gain = np.prod(gains + 1) - 1\n",
    "print(f'This Strategy has a gaining rate of : {strategy_gain*100:.2f}%')\n",
    "print(f'Total trades of {num_of_trades}.') \n",
    "win_rate = len(gains[gains > 0]) / len(gains)\n",
    "avg_win_pct = gains[gains > 0].mean() if win_rate != 0 else 0\n",
    "biggest_win = gains[gains > 0].max() if win_rate != 0 else 0\n",
    "avg_lost_pct = gains[gains < 0].mean() if win_rate != 1 else 0\n",
    "biggest_lost = gains[gains < 0].min() if win_rate != 1 else 0\n",
    "\n",
    "print(f'''Strategy has a win rate of {win_rate*100:.2f}% \n",
    "with an average win percentage of {avg_win_pct*100:.2f}% \n",
    "with a biggest win of {biggest_win*100:.2f}%\n",
    "with an average lost percentage of {avg_lost_pct*100:.2f}% \n",
    "with a biggest lost of {biggest_lost*100:.2f}%''')"
   ]
  },
  {
   "cell_type": "code",
   "execution_count": 12,
   "metadata": {},
   "outputs": [
    {
     "name": "stdout",
     "output_type": "stream",
     "text": [
      "The static gain of AAPL is :  1928.08%\n"
     ]
    }
   ],
   "source": [
    "# Seeing how much can be gain through moment\n",
    "static_gain = prices.Close[-1] / prices.Close[0] - 1\n",
    "print(f'The static gain of {symbol} is :  {static_gain*100:.2f}%') "
   ]
  },
  {
   "cell_type": "code",
   "execution_count": 13,
   "metadata": {},
   "outputs": [
    {
     "name": "stdout",
     "output_type": "stream",
     "text": [
      "The maximum gain of AAPL is :  2004.98%\n"
     ]
    }
   ],
   "source": [
    "# Seeing how much can be gain when sell at the highest price\n",
    "highest_gain = prices.High.max() / prices.Close[0] - 1\n",
    "print(f'The maximum gain of {symbol} is :  {highest_gain*100:.2f}%') "
   ]
  },
  {
   "cell_type": "markdown",
   "metadata": {},
   "source": [
    "The result does not seem to be ideal. Let see how can we improve it."
   ]
  },
  {
   "cell_type": "code",
   "execution_count": null,
   "metadata": {},
   "outputs": [],
   "source": []
  }
 ],
 "metadata": {
  "kernelspec": {
   "display_name": "Python 3.10.5 ('.venv': venv)",
   "language": "python",
   "name": "python3"
  },
  "language_info": {
   "codemirror_mode": {
    "name": "ipython",
    "version": 3
   },
   "file_extension": ".py",
   "mimetype": "text/x-python",
   "name": "python",
   "nbconvert_exporter": "python",
   "pygments_lexer": "ipython3",
   "version": "3.10.5"
  },
  "orig_nbformat": 4,
  "vscode": {
   "interpreter": {
    "hash": "9589969532b4a0ceedb683b328b037339f9e930ae86c89b54a564bc9c4346a1d"
   }
  }
 },
 "nbformat": 4,
 "nbformat_minor": 2
}

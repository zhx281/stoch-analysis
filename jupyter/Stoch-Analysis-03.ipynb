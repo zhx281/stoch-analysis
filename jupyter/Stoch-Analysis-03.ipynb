{
 "cells": [
  {
   "cell_type": "code",
   "execution_count": 16,
   "metadata": {},
   "outputs": [],
   "source": [
    "import pandas as pd\n",
    "import numpy as np\n",
    "import yfinance\n",
    "import ta"
   ]
  },
  {
   "cell_type": "markdown",
   "metadata": {},
   "source": [
    "# Buy Low With Volume Strategy\n",
    "This strategy taking the newest low in n periods as a trigger with Stochastic RSI oversold, then using the volume as a filter.\n",
    "\n",
    "### Part 1: Buying Requirements\n",
    "  1. Stochastic RSI K and D line must be in the oversold area (> n%)\n",
    "  2. Stochastic RSI K line is below D line\n",
    "  3. The stock made an n period low during this period of Stochastic RSI oversold\n",
    "  4. Then check if the volume is above the volume simple moving avreage within a n periods \n",
    "  5. If above then Buy at close or at n% above new low\n",
    "\n",
    "### Part 2: Selling Requirements\n",
    "  1. Set Trailling stop to n% of high prices\n",
    "  2. Set sell limit to a static n% gain of buy price or trailling of high prices"
   ]
  },
  {
   "cell_type": "markdown",
   "metadata": {},
   "source": [
    "## Getting Price Data\n",
    "Getting the price data of symbol using the yfinance library."
   ]
  },
  {
   "cell_type": "code",
   "execution_count": 34,
   "metadata": {},
   "outputs": [],
   "source": [
    "# Loading the 10 years prices data from yfinance\n",
    "# start: 2010-01-01 end: 2020-12-31\n",
    "# Symbol: AAPL\n",
    "symbol = 'TSLA'\n",
    "ticker = yfinance.Ticker(symbol)\n",
    "prices = ticker.history(start='2010-01-01', end='2020-12-31', period='1d') "
   ]
  },
  {
   "cell_type": "code",
   "execution_count": 35,
   "metadata": {},
   "outputs": [
    {
     "data": {
      "text/html": [
       "<div>\n",
       "<style scoped>\n",
       "    .dataframe tbody tr th:only-of-type {\n",
       "        vertical-align: middle;\n",
       "    }\n",
       "\n",
       "    .dataframe tbody tr th {\n",
       "        vertical-align: top;\n",
       "    }\n",
       "\n",
       "    .dataframe thead th {\n",
       "        text-align: right;\n",
       "    }\n",
       "</style>\n",
       "<table border=\"1\" class=\"dataframe\">\n",
       "  <thead>\n",
       "    <tr style=\"text-align: right;\">\n",
       "      <th></th>\n",
       "      <th>Open</th>\n",
       "      <th>High</th>\n",
       "      <th>Low</th>\n",
       "      <th>Close</th>\n",
       "      <th>Volume</th>\n",
       "      <th>Dividends</th>\n",
       "      <th>Stock Splits</th>\n",
       "    </tr>\n",
       "    <tr>\n",
       "      <th>Date</th>\n",
       "      <th></th>\n",
       "      <th></th>\n",
       "      <th></th>\n",
       "      <th></th>\n",
       "      <th></th>\n",
       "      <th></th>\n",
       "      <th></th>\n",
       "    </tr>\n",
       "  </thead>\n",
       "  <tbody>\n",
       "    <tr>\n",
       "      <th>2010-06-29</th>\n",
       "      <td>3.800000</td>\n",
       "      <td>5.000000</td>\n",
       "      <td>3.508000</td>\n",
       "      <td>4.778000</td>\n",
       "      <td>93831500</td>\n",
       "      <td>0</td>\n",
       "      <td>0.0</td>\n",
       "    </tr>\n",
       "    <tr>\n",
       "      <th>2010-06-30</th>\n",
       "      <td>5.158000</td>\n",
       "      <td>6.084000</td>\n",
       "      <td>4.660000</td>\n",
       "      <td>4.766000</td>\n",
       "      <td>85935500</td>\n",
       "      <td>0</td>\n",
       "      <td>0.0</td>\n",
       "    </tr>\n",
       "    <tr>\n",
       "      <th>2010-07-01</th>\n",
       "      <td>5.000000</td>\n",
       "      <td>5.184000</td>\n",
       "      <td>4.054000</td>\n",
       "      <td>4.392000</td>\n",
       "      <td>41094000</td>\n",
       "      <td>0</td>\n",
       "      <td>0.0</td>\n",
       "    </tr>\n",
       "    <tr>\n",
       "      <th>2010-07-02</th>\n",
       "      <td>4.600000</td>\n",
       "      <td>4.620000</td>\n",
       "      <td>3.742000</td>\n",
       "      <td>3.840000</td>\n",
       "      <td>25699000</td>\n",
       "      <td>0</td>\n",
       "      <td>0.0</td>\n",
       "    </tr>\n",
       "    <tr>\n",
       "      <th>2010-07-06</th>\n",
       "      <td>4.000000</td>\n",
       "      <td>4.000000</td>\n",
       "      <td>3.166000</td>\n",
       "      <td>3.222000</td>\n",
       "      <td>34334500</td>\n",
       "      <td>0</td>\n",
       "      <td>0.0</td>\n",
       "    </tr>\n",
       "    <tr>\n",
       "      <th>...</th>\n",
       "      <td>...</td>\n",
       "      <td>...</td>\n",
       "      <td>...</td>\n",
       "      <td>...</td>\n",
       "      <td>...</td>\n",
       "      <td>...</td>\n",
       "      <td>...</td>\n",
       "    </tr>\n",
       "    <tr>\n",
       "      <th>2020-12-23</th>\n",
       "      <td>632.200012</td>\n",
       "      <td>651.500000</td>\n",
       "      <td>622.570007</td>\n",
       "      <td>645.979980</td>\n",
       "      <td>33173000</td>\n",
       "      <td>0</td>\n",
       "      <td>0.0</td>\n",
       "    </tr>\n",
       "    <tr>\n",
       "      <th>2020-12-24</th>\n",
       "      <td>642.989990</td>\n",
       "      <td>666.090027</td>\n",
       "      <td>641.000000</td>\n",
       "      <td>661.770020</td>\n",
       "      <td>22865600</td>\n",
       "      <td>0</td>\n",
       "      <td>0.0</td>\n",
       "    </tr>\n",
       "    <tr>\n",
       "      <th>2020-12-28</th>\n",
       "      <td>674.510010</td>\n",
       "      <td>681.400024</td>\n",
       "      <td>660.799988</td>\n",
       "      <td>663.690002</td>\n",
       "      <td>32278600</td>\n",
       "      <td>0</td>\n",
       "      <td>0.0</td>\n",
       "    </tr>\n",
       "    <tr>\n",
       "      <th>2020-12-29</th>\n",
       "      <td>661.000000</td>\n",
       "      <td>669.900024</td>\n",
       "      <td>655.000000</td>\n",
       "      <td>665.989990</td>\n",
       "      <td>22910800</td>\n",
       "      <td>0</td>\n",
       "      <td>0.0</td>\n",
       "    </tr>\n",
       "    <tr>\n",
       "      <th>2020-12-30</th>\n",
       "      <td>672.000000</td>\n",
       "      <td>696.599976</td>\n",
       "      <td>668.359985</td>\n",
       "      <td>694.780029</td>\n",
       "      <td>42846000</td>\n",
       "      <td>0</td>\n",
       "      <td>0.0</td>\n",
       "    </tr>\n",
       "  </tbody>\n",
       "</table>\n",
       "<p>2646 rows × 7 columns</p>\n",
       "</div>"
      ],
      "text/plain": [
       "                  Open        High         Low       Close    Volume  \\\n",
       "Date                                                                   \n",
       "2010-06-29    3.800000    5.000000    3.508000    4.778000  93831500   \n",
       "2010-06-30    5.158000    6.084000    4.660000    4.766000  85935500   \n",
       "2010-07-01    5.000000    5.184000    4.054000    4.392000  41094000   \n",
       "2010-07-02    4.600000    4.620000    3.742000    3.840000  25699000   \n",
       "2010-07-06    4.000000    4.000000    3.166000    3.222000  34334500   \n",
       "...                ...         ...         ...         ...       ...   \n",
       "2020-12-23  632.200012  651.500000  622.570007  645.979980  33173000   \n",
       "2020-12-24  642.989990  666.090027  641.000000  661.770020  22865600   \n",
       "2020-12-28  674.510010  681.400024  660.799988  663.690002  32278600   \n",
       "2020-12-29  661.000000  669.900024  655.000000  665.989990  22910800   \n",
       "2020-12-30  672.000000  696.599976  668.359985  694.780029  42846000   \n",
       "\n",
       "            Dividends  Stock Splits  \n",
       "Date                                 \n",
       "2010-06-29          0           0.0  \n",
       "2010-06-30          0           0.0  \n",
       "2010-07-01          0           0.0  \n",
       "2010-07-02          0           0.0  \n",
       "2010-07-06          0           0.0  \n",
       "...               ...           ...  \n",
       "2020-12-23          0           0.0  \n",
       "2020-12-24          0           0.0  \n",
       "2020-12-28          0           0.0  \n",
       "2020-12-29          0           0.0  \n",
       "2020-12-30          0           0.0  \n",
       "\n",
       "[2646 rows x 7 columns]"
      ]
     },
     "execution_count": 35,
     "metadata": {},
     "output_type": "execute_result"
    }
   ],
   "source": [
    "prices"
   ]
  },
  {
   "cell_type": "markdown",
   "metadata": {},
   "source": [
    "## Technical Analysis\n",
    "Using the ta library to do technical analysis."
   ]
  },
  {
   "cell_type": "code",
   "execution_count": 36,
   "metadata": {},
   "outputs": [
    {
     "data": {
      "text/plain": [
       "Date\n",
       "2010-06-29         NaN\n",
       "2010-06-30         NaN\n",
       "2010-07-01         NaN\n",
       "2010-07-02         NaN\n",
       "2010-07-06         NaN\n",
       "                ...   \n",
       "2020-12-23    0.014007\n",
       "2020-12-24    0.067020\n",
       "2020-12-28    0.124796\n",
       "2020-12-29    0.174499\n",
       "2020-12-30    0.256703\n",
       "Name: stochrsi_k, Length: 2646, dtype: float64"
      ]
     },
     "execution_count": 36,
     "metadata": {},
     "output_type": "execute_result"
    }
   ],
   "source": [
    "# Create Stochastic RSI K\n",
    "stoch_rsi = ta.momentum.StochRSIIndicator(prices.Close, window=20)\n",
    "stoch_k = stoch_rsi.stochrsi_k()\n",
    "stoch_d = stoch_rsi.stochrsi_d()\n",
    "stoch_k"
   ]
  },
  {
   "cell_type": "code",
   "execution_count": 37,
   "metadata": {},
   "outputs": [
    {
     "data": {
      "text/plain": [
       "Date\n",
       "2010-06-29           NaN\n",
       "2010-06-30           NaN\n",
       "2010-07-01           NaN\n",
       "2010-07-02           NaN\n",
       "2010-07-06           NaN\n",
       "                 ...    \n",
       "2020-12-23    67409670.0\n",
       "2020-12-24    62987910.0\n",
       "2020-12-28    61568270.0\n",
       "2020-12-29    58655290.0\n",
       "2020-12-30    58432740.0\n",
       "Name: sma_10, Length: 2646, dtype: float64"
      ]
     },
     "execution_count": 37,
     "metadata": {},
     "output_type": "execute_result"
    }
   ],
   "source": [
    "# Create Simple Moving Average for volumes\n",
    "volume_sma = ta.trend.sma_indicator(prices.Volume, window=10)\n",
    "volume_sma"
   ]
  },
  {
   "cell_type": "markdown",
   "metadata": {},
   "source": [
    "## Finding the Buy Signal"
   ]
  },
  {
   "cell_type": "code",
   "execution_count": 38,
   "metadata": {},
   "outputs": [
    {
     "data": {
      "text/html": [
       "<div>\n",
       "<style scoped>\n",
       "    .dataframe tbody tr th:only-of-type {\n",
       "        vertical-align: middle;\n",
       "    }\n",
       "\n",
       "    .dataframe tbody tr th {\n",
       "        vertical-align: top;\n",
       "    }\n",
       "\n",
       "    .dataframe thead th {\n",
       "        text-align: right;\n",
       "    }\n",
       "</style>\n",
       "<table border=\"1\" class=\"dataframe\">\n",
       "  <thead>\n",
       "    <tr style=\"text-align: right;\">\n",
       "      <th></th>\n",
       "      <th>10_day_low</th>\n",
       "    </tr>\n",
       "    <tr>\n",
       "      <th>Date</th>\n",
       "      <th></th>\n",
       "    </tr>\n",
       "  </thead>\n",
       "  <tbody>\n",
       "    <tr>\n",
       "      <th>2010-06-29</th>\n",
       "      <td>NaN</td>\n",
       "    </tr>\n",
       "    <tr>\n",
       "      <th>2010-06-30</th>\n",
       "      <td>NaN</td>\n",
       "    </tr>\n",
       "    <tr>\n",
       "      <th>2010-07-01</th>\n",
       "      <td>NaN</td>\n",
       "    </tr>\n",
       "    <tr>\n",
       "      <th>2010-07-02</th>\n",
       "      <td>NaN</td>\n",
       "    </tr>\n",
       "    <tr>\n",
       "      <th>2010-07-06</th>\n",
       "      <td>NaN</td>\n",
       "    </tr>\n",
       "    <tr>\n",
       "      <th>...</th>\n",
       "      <td>...</td>\n",
       "    </tr>\n",
       "    <tr>\n",
       "      <th>2020-12-23</th>\n",
       "      <td>566.340027</td>\n",
       "    </tr>\n",
       "    <tr>\n",
       "      <th>2020-12-24</th>\n",
       "      <td>596.799988</td>\n",
       "    </tr>\n",
       "    <tr>\n",
       "      <th>2020-12-28</th>\n",
       "      <td>605.000000</td>\n",
       "    </tr>\n",
       "    <tr>\n",
       "      <th>2020-12-29</th>\n",
       "      <td>605.000000</td>\n",
       "    </tr>\n",
       "    <tr>\n",
       "      <th>2020-12-30</th>\n",
       "      <td>605.000000</td>\n",
       "    </tr>\n",
       "  </tbody>\n",
       "</table>\n",
       "<p>2646 rows × 1 columns</p>\n",
       "</div>"
      ],
      "text/plain": [
       "            10_day_low\n",
       "Date                  \n",
       "2010-06-29         NaN\n",
       "2010-06-30         NaN\n",
       "2010-07-01         NaN\n",
       "2010-07-02         NaN\n",
       "2010-07-06         NaN\n",
       "...                ...\n",
       "2020-12-23  566.340027\n",
       "2020-12-24  596.799988\n",
       "2020-12-28  605.000000\n",
       "2020-12-29  605.000000\n",
       "2020-12-30  605.000000\n",
       "\n",
       "[2646 rows x 1 columns]"
      ]
     },
     "execution_count": 38,
     "metadata": {},
     "output_type": "execute_result"
    }
   ],
   "source": [
    "# Finding lows for 200 period, 100 period, 50 period and 20 period\n",
    "period_range = [10]\n",
    "low = prices.Low\n",
    "# Simple function to find the lowest low in n periods\n",
    "def get_lowest_low(s, length):\n",
    "  return s.rolling(length).min()\n",
    "# Getting a list of lows in different periods\n",
    "lows = [get_lowest_low(low, _) for _ in period_range]\n",
    "# Turn the list into a pandas DataFrame with concat\n",
    "lows = pd.concat(lows, axis=1)\n",
    "lows.columns = [str(_) + '_day_low' for _ in period_range]\n",
    "# Check out lows\n",
    "lows"
   ]
  },
  {
   "cell_type": "code",
   "execution_count": 39,
   "metadata": {},
   "outputs": [
    {
     "data": {
      "text/html": [
       "<div>\n",
       "<style scoped>\n",
       "    .dataframe tbody tr th:only-of-type {\n",
       "        vertical-align: middle;\n",
       "    }\n",
       "\n",
       "    .dataframe tbody tr th {\n",
       "        vertical-align: top;\n",
       "    }\n",
       "\n",
       "    .dataframe thead th {\n",
       "        text-align: right;\n",
       "    }\n",
       "</style>\n",
       "<table border=\"1\" class=\"dataframe\">\n",
       "  <thead>\n",
       "    <tr style=\"text-align: right;\">\n",
       "      <th></th>\n",
       "      <th>Low</th>\n",
       "      <th>stochrsi_k</th>\n",
       "      <th>stochrsi_d</th>\n",
       "      <th>10_day_low</th>\n",
       "    </tr>\n",
       "    <tr>\n",
       "      <th>Date</th>\n",
       "      <th></th>\n",
       "      <th></th>\n",
       "      <th></th>\n",
       "      <th></th>\n",
       "    </tr>\n",
       "  </thead>\n",
       "  <tbody>\n",
       "    <tr>\n",
       "      <th>2010-08-27</th>\n",
       "      <td>3.900000</td>\n",
       "      <td>0.723538</td>\n",
       "      <td>0.701562</td>\n",
       "      <td>3.652000</td>\n",
       "    </tr>\n",
       "    <tr>\n",
       "      <th>2010-08-30</th>\n",
       "      <td>3.922000</td>\n",
       "      <td>0.722929</td>\n",
       "      <td>0.707645</td>\n",
       "      <td>3.666000</td>\n",
       "    </tr>\n",
       "    <tr>\n",
       "      <th>2010-08-31</th>\n",
       "      <td>3.866000</td>\n",
       "      <td>0.748208</td>\n",
       "      <td>0.731559</td>\n",
       "      <td>3.666000</td>\n",
       "    </tr>\n",
       "    <tr>\n",
       "      <th>2010-09-01</th>\n",
       "      <td>3.920000</td>\n",
       "      <td>0.847676</td>\n",
       "      <td>0.772938</td>\n",
       "      <td>3.666000</td>\n",
       "    </tr>\n",
       "    <tr>\n",
       "      <th>2010-09-02</th>\n",
       "      <td>4.062000</td>\n",
       "      <td>0.930286</td>\n",
       "      <td>0.842057</td>\n",
       "      <td>3.702000</td>\n",
       "    </tr>\n",
       "    <tr>\n",
       "      <th>...</th>\n",
       "      <td>...</td>\n",
       "      <td>...</td>\n",
       "      <td>...</td>\n",
       "      <td>...</td>\n",
       "    </tr>\n",
       "    <tr>\n",
       "      <th>2020-12-23</th>\n",
       "      <td>622.570007</td>\n",
       "      <td>0.014007</td>\n",
       "      <td>0.190066</td>\n",
       "      <td>566.340027</td>\n",
       "    </tr>\n",
       "    <tr>\n",
       "      <th>2020-12-24</th>\n",
       "      <td>641.000000</td>\n",
       "      <td>0.067020</td>\n",
       "      <td>0.098985</td>\n",
       "      <td>596.799988</td>\n",
       "    </tr>\n",
       "    <tr>\n",
       "      <th>2020-12-28</th>\n",
       "      <td>660.799988</td>\n",
       "      <td>0.124796</td>\n",
       "      <td>0.068608</td>\n",
       "      <td>605.000000</td>\n",
       "    </tr>\n",
       "    <tr>\n",
       "      <th>2020-12-29</th>\n",
       "      <td>655.000000</td>\n",
       "      <td>0.174499</td>\n",
       "      <td>0.122105</td>\n",
       "      <td>605.000000</td>\n",
       "    </tr>\n",
       "    <tr>\n",
       "      <th>2020-12-30</th>\n",
       "      <td>668.359985</td>\n",
       "      <td>0.256703</td>\n",
       "      <td>0.185333</td>\n",
       "      <td>605.000000</td>\n",
       "    </tr>\n",
       "  </tbody>\n",
       "</table>\n",
       "<p>2604 rows × 4 columns</p>\n",
       "</div>"
      ],
      "text/plain": [
       "                   Low  stochrsi_k  stochrsi_d  10_day_low\n",
       "Date                                                      \n",
       "2010-08-27    3.900000    0.723538    0.701562    3.652000\n",
       "2010-08-30    3.922000    0.722929    0.707645    3.666000\n",
       "2010-08-31    3.866000    0.748208    0.731559    3.666000\n",
       "2010-09-01    3.920000    0.847676    0.772938    3.666000\n",
       "2010-09-02    4.062000    0.930286    0.842057    3.702000\n",
       "...                ...         ...         ...         ...\n",
       "2020-12-23  622.570007    0.014007    0.190066  566.340027\n",
       "2020-12-24  641.000000    0.067020    0.098985  596.799988\n",
       "2020-12-28  660.799988    0.124796    0.068608  605.000000\n",
       "2020-12-29  655.000000    0.174499    0.122105  605.000000\n",
       "2020-12-30  668.359985    0.256703    0.185333  605.000000\n",
       "\n",
       "[2604 rows x 4 columns]"
      ]
     },
     "execution_count": 39,
     "metadata": {},
     "output_type": "execute_result"
    }
   ],
   "source": [
    "# Concat Low price with Stochastic RSI K and different period lows\n",
    "columns = ['Low', 'StochRSI_K', 'StochRSI_D'] + lows.columns.tolist()\n",
    "ndf = pd.concat([prices.Low, stoch_k, stoch_d, lows], axis=1)\n",
    "# Dropna, with inplace=True so do have to reassign to the same variable\n",
    "ndf.dropna(inplace=True)\n",
    "# check the ndf \n",
    "ndf"
   ]
  },
  {
   "cell_type": "markdown",
   "metadata": {},
   "source": [
    "This is the logic for getting the buy signal for back test."
   ]
  },
  {
   "cell_type": "code",
   "execution_count": 40,
   "metadata": {},
   "outputs": [
    {
     "name": "stdout",
     "output_type": "stream",
     "text": [
      "There are 358 new period low in the dataframe of 2604 period.\n"
     ]
    }
   ],
   "source": [
    "# Applying the strategy:\n",
    "# Check if Stochastic RSI K is lower than 20% (.2), \n",
    "# Stochastic RSI D is lower than 20% (.2) and \n",
    "# Stochastic RSI K less than Stochastic RSI D\n",
    "below = .8\n",
    "low_stoch_rsi = (ndf.stochrsi_k < below) &  (ndf.stochrsi_d < below) & (ndf.stochrsi_k < ndf.stochrsi_d)\n",
    "# Check if the volume is above the volume sma\n",
    "good_volume = prices.Volume > volume_sma\n",
    "# Check if the price is one of the lows\n",
    "# Using numpy's check to aviod pandas error\n",
    "is_new_low = np.array(ndf.iloc[:, 2:]) >= np.array(ndf.loc[:, ['Low']])\n",
    "# Check lowest is lower than more than n periods\n",
    "is_new_low = is_new_low.sum(1) > 0\n",
    "print('There are {} new period low in the dataframe of {} period.'.format(\n",
    "  is_new_low.sum(), len(ndf)))"
   ]
  },
  {
   "cell_type": "code",
   "execution_count": 41,
   "metadata": {},
   "outputs": [
    {
     "name": "stdout",
     "output_type": "stream",
     "text": [
      "There are 286 signals.\n"
     ]
    }
   ],
   "source": [
    "# Check for days of possible buys \n",
    "# If the Stochastic RSI K is lower then 20% and has an new low\n",
    "has_hit = pd.concat([low_stoch_rsi, \n",
    "                     pd.Series(is_new_low, index=ndf.index)], \n",
    "                   axis=1).sum(1) > 1\n",
    "signals = np.arange(len(has_hit))[has_hit]\n",
    "print('There are {} signals.'.format(len(signals)))"
   ]
  },
  {
   "cell_type": "markdown",
   "metadata": {},
   "source": [
    "## Back Test"
   ]
  },
  {
   "cell_type": "code",
   "execution_count": 42,
   "metadata": {},
   "outputs": [],
   "source": [
    "# Triming prices to the same length as ndf\n",
    "index = ndf.index\n",
    "nprices = prices.loc[index, :]\n",
    "ngood_volume = good_volume.loc[index]"
   ]
  },
  {
   "cell_type": "code",
   "execution_count": 47,
   "metadata": {},
   "outputs": [],
   "source": [
    "# Backtest loop\n",
    "is_holding = False\n",
    "buy_at = 0\n",
    "stop_limit = 0\n",
    "stop_limit_pct = 1 - .4\n",
    "sell_limit = 0\n",
    "sell_limit_pct = 1 + .5\n",
    "current_idx = 0\n",
    "wins = []\n",
    "num_of_trades = 0\n",
    "for s in signals:\n",
    "  # Continue when current index is greater s\n",
    "  # was still holding\n",
    "  if current_idx > s:\n",
    "    continue\n",
    "  # When there is a signal buy at close\n",
    "  # getting the next price data and setting the stop limit and sell limit\n",
    "  data = nprices.iloc[s:, :5]\n",
    "  for i, (_, row) in enumerate(data.iloc[1:].iterrows()):\n",
    "    i = i + 1\n",
    "    if not is_holding:\n",
    "      if i > 5:\n",
    "        break\n",
    "      volume = ngood_volume.iloc[s + i]\n",
    "      # Buy when good volume\n",
    "      if volume:\n",
    "        buy_at = row.Close\n",
    "        current_high = row.High\n",
    "        stop_limit = current_high * stop_limit_pct\n",
    "        sell_limit = buy_at * sell_limit_pct\n",
    "        is_holding = True\n",
    "      continue\n",
    "    # check sell conditions\n",
    "    is_sell = False\n",
    "    if row.Open < stop_limit:\n",
    "      # if open prices is less than stop limit it's a sell\n",
    "      wp = row.Open / buy_at - 1\n",
    "      is_sell = True\n",
    "    elif row.Low < stop_limit:\n",
    "      # if low prices is less than stop limit, stop limit has been triggered\n",
    "      wp = stop_limit / buy_at - 1\n",
    "      is_sell = True\n",
    "    elif row.High > sell_limit:\n",
    "      # Sell when sell limit is reached\n",
    "      wp = sell_limit / buy_at - 1\n",
    "      is_sell = True\n",
    "    elif i+1 == len(data):\n",
    "      wp = row.Close / buy_at - 1\n",
    "      is_sell = True\n",
    "    \n",
    "    if is_sell:\n",
    "      # Selling logics\n",
    "      wins.append(wp)\n",
    "      current_idx = s + i\n",
    "      num_of_trades += 1\n",
    "      is_holding = False\n",
    "      break\n",
    "\n",
    "    # Update stop limit when there are new highs\n",
    "    if row.High > current_high:\n",
    "      stop_limit = row.High * stop_limit_pct\n",
    "      sell_limit = row.High * sell_limit_pct\n",
    "      current_high = row.High  "
   ]
  },
  {
   "cell_type": "markdown",
   "metadata": {},
   "source": [
    "## Statistics"
   ]
  },
  {
   "cell_type": "code",
   "execution_count": 48,
   "metadata": {},
   "outputs": [
    {
     "name": "stdout",
     "output_type": "stream",
     "text": [
      "This Strategy has a gaining rate of : 11656.02%\n",
      "Total trades of 7.\n",
      "Strategy has a win rate of 85.71% \n",
      "with an average win percentage of 221.35% \n",
      "with a biggest win of 712.34%\n",
      "with an average lost percentage of -33.31% \n",
      "with a biggest lost of -33.31%\n"
     ]
    }
   ],
   "source": [
    "# Checking the strategy gain\n",
    "gains = np.array(wins)\n",
    "strategy_gain = np.prod(gains + 1) - 1\n",
    "print(f'This Strategy has a gaining rate of : {strategy_gain*100:.2f}%')\n",
    "print(f'Total trades of {num_of_trades}.') \n",
    "win_rate = len(gains[gains > 0]) / len(gains)\n",
    "avg_win_pct = gains[gains > 0].mean() if win_rate != 0 else 0\n",
    "biggest_win = gains[gains > 0].max() if win_rate != 0 else 0\n",
    "avg_lost_pct = gains[gains < 0].mean() if win_rate != 1 else 0\n",
    "biggest_lost = gains[gains < 0].min() if win_rate != 1 else 0\n",
    "\n",
    "print(f'''Strategy has a win rate of {win_rate*100:.2f}% \n",
    "with an average win percentage of {avg_win_pct*100:.2f}% \n",
    "with a biggest win of {biggest_win*100:.2f}%\n",
    "with an average lost percentage of {avg_lost_pct*100:.2f}% \n",
    "with a biggest lost of {biggest_lost*100:.2f}%''')"
   ]
  },
  {
   "cell_type": "code",
   "execution_count": 49,
   "metadata": {},
   "outputs": [
    {
     "name": "stdout",
     "output_type": "stream",
     "text": [
      "The static gain of TSLA is :  17534.01%\n"
     ]
    }
   ],
   "source": [
    "# Seeing how much can be gain through moment\n",
    "static_gain = nprices.Close[-1] / nprices.Close[0] - 1\n",
    "print(f'The static gain of {symbol} is :  {static_gain*100:.2f}%') "
   ]
  },
  {
   "cell_type": "code",
   "execution_count": 50,
   "metadata": {},
   "outputs": [
    {
     "name": "stdout",
     "output_type": "stream",
     "text": [
      "The maximum gain of TSLA is :  17580.20%\n"
     ]
    }
   ],
   "source": [
    "# Seeing how much can be gain when sell at the highest price\n",
    "highest_gain = nprices.High.max() / nprices.Close[0] - 1\n",
    "print(f'The maximum gain of {symbol} is :  {highest_gain*100:.2f}%') "
   ]
  },
  {
   "cell_type": "markdown",
   "metadata": {},
   "source": [
    "As you can see this strategy has an advantage to the base strategy, but we can even make it more profitable with some modify to certain parameters. \n",
    "\n",
    "The parameters are:\n",
    " - below: for setting or adjusting which is the oversold area.\n",
    " - stop_limit_pct: for setting the risk level for either a small or larger gain.\n",
    " - sell_limit_pct; for a set percentage gain"
   ]
  },
  {
   "cell_type": "code",
   "execution_count": null,
   "metadata": {},
   "outputs": [],
   "source": []
  }
 ],
 "metadata": {
  "kernelspec": {
   "display_name": "Python 3.10.5 ('.venv': venv)",
   "language": "python",
   "name": "python3"
  },
  "language_info": {
   "codemirror_mode": {
    "name": "ipython",
    "version": 3
   },
   "file_extension": ".py",
   "mimetype": "text/x-python",
   "name": "python",
   "nbconvert_exporter": "python",
   "pygments_lexer": "ipython3",
   "version": "3.10.5"
  },
  "orig_nbformat": 4,
  "vscode": {
   "interpreter": {
    "hash": "9589969532b4a0ceedb683b328b037339f9e930ae86c89b54a564bc9c4346a1d"
   }
  }
 },
 "nbformat": 4,
 "nbformat_minor": 2
}

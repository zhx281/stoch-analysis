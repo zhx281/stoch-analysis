{
 "cells": [
  {
   "cell_type": "code",
   "execution_count": 1,
   "metadata": {},
   "outputs": [],
   "source": [
    "import pandas as pd\n",
    "import numpy as np\n",
    "import yfinance\n",
    "import ta"
   ]
  },
  {
   "cell_type": "markdown",
   "metadata": {},
   "source": [
    "# Buy Low With Volume Strategy\n",
    "This strategy taking the newest low in n periods as a trigger with Stochastic RSI oversold, then using the volume as a filter.\n",
    "\n",
    "### Part 1: Buying Requirements\n",
    "  1. Stochastic RSI K and D line must be in the oversold area (> n%)\n",
    "  2. Stochastic RSI K line is below D line\n",
    "  3. The stock made an n period low during this period of Stochastic RSI oversold\n",
    "  4. Then check if the volume is above the volume simple moving avreage within a n periods \n",
    "  5. If above then Buy at close or at n% above new low\n",
    "\n",
    "### Part 2: Selling Requirements\n",
    "  1. Set Trailling stop to n% of high prices\n",
    "  2. Set sell limit to a static n% gain of buy price or trailling of high prices"
   ]
  },
  {
   "cell_type": "markdown",
   "metadata": {},
   "source": [
    "## Getting Price Data\n",
    "Getting the price data of symbol using the yfinance library."
   ]
  },
  {
   "cell_type": "code",
   "execution_count": 2,
   "metadata": {},
   "outputs": [],
   "source": [
    "# Loading the 10 years prices data from yfinance\n",
    "# start: 2010-01-01 end: 2020-12-31\n",
    "# Symbol: AAPL\n",
    "symbol = 'AAPL'\n",
    "ticker = yfinance.Ticker(symbol)\n",
    "prices = ticker.history(start='2010-01-01', end='2020-12-31', period='1d') "
   ]
  },
  {
   "cell_type": "code",
   "execution_count": 3,
   "metadata": {},
   "outputs": [
    {
     "data": {
      "text/html": [
       "<div>\n",
       "<style scoped>\n",
       "    .dataframe tbody tr th:only-of-type {\n",
       "        vertical-align: middle;\n",
       "    }\n",
       "\n",
       "    .dataframe tbody tr th {\n",
       "        vertical-align: top;\n",
       "    }\n",
       "\n",
       "    .dataframe thead th {\n",
       "        text-align: right;\n",
       "    }\n",
       "</style>\n",
       "<table border=\"1\" class=\"dataframe\">\n",
       "  <thead>\n",
       "    <tr style=\"text-align: right;\">\n",
       "      <th></th>\n",
       "      <th>Open</th>\n",
       "      <th>High</th>\n",
       "      <th>Low</th>\n",
       "      <th>Close</th>\n",
       "      <th>Volume</th>\n",
       "      <th>Dividends</th>\n",
       "      <th>Stock Splits</th>\n",
       "    </tr>\n",
       "    <tr>\n",
       "      <th>Date</th>\n",
       "      <th></th>\n",
       "      <th></th>\n",
       "      <th></th>\n",
       "      <th></th>\n",
       "      <th></th>\n",
       "      <th></th>\n",
       "      <th></th>\n",
       "    </tr>\n",
       "  </thead>\n",
       "  <tbody>\n",
       "    <tr>\n",
       "      <th>2010-01-04</th>\n",
       "      <td>6.508334</td>\n",
       "      <td>6.540962</td>\n",
       "      <td>6.476315</td>\n",
       "      <td>6.526020</td>\n",
       "      <td>493729600</td>\n",
       "      <td>0.0</td>\n",
       "      <td>0.0</td>\n",
       "    </tr>\n",
       "    <tr>\n",
       "      <th>2010-01-05</th>\n",
       "      <td>6.544012</td>\n",
       "      <td>6.574201</td>\n",
       "      <td>6.502845</td>\n",
       "      <td>6.537303</td>\n",
       "      <td>601904800</td>\n",
       "      <td>0.0</td>\n",
       "      <td>0.0</td>\n",
       "    </tr>\n",
       "    <tr>\n",
       "      <th>2010-01-06</th>\n",
       "      <td>6.537303</td>\n",
       "      <td>6.563223</td>\n",
       "      <td>6.426609</td>\n",
       "      <td>6.433318</td>\n",
       "      <td>552160000</td>\n",
       "      <td>0.0</td>\n",
       "      <td>0.0</td>\n",
       "    </tr>\n",
       "    <tr>\n",
       "      <th>2010-01-07</th>\n",
       "      <td>6.457103</td>\n",
       "      <td>6.464726</td>\n",
       "      <td>6.374769</td>\n",
       "      <td>6.421424</td>\n",
       "      <td>477131200</td>\n",
       "      <td>0.0</td>\n",
       "      <td>0.0</td>\n",
       "    </tr>\n",
       "    <tr>\n",
       "      <th>2010-01-08</th>\n",
       "      <td>6.412887</td>\n",
       "      <td>6.464727</td>\n",
       "      <td>6.375075</td>\n",
       "      <td>6.464117</td>\n",
       "      <td>447610800</td>\n",
       "      <td>0.0</td>\n",
       "      <td>0.0</td>\n",
       "    </tr>\n",
       "    <tr>\n",
       "      <th>...</th>\n",
       "      <td>...</td>\n",
       "      <td>...</td>\n",
       "      <td>...</td>\n",
       "      <td>...</td>\n",
       "      <td>...</td>\n",
       "      <td>...</td>\n",
       "      <td>...</td>\n",
       "    </tr>\n",
       "    <tr>\n",
       "      <th>2020-12-23</th>\n",
       "      <td>130.808976</td>\n",
       "      <td>131.076205</td>\n",
       "      <td>129.443079</td>\n",
       "      <td>129.621246</td>\n",
       "      <td>88223700</td>\n",
       "      <td>0.0</td>\n",
       "      <td>0.0</td>\n",
       "    </tr>\n",
       "    <tr>\n",
       "      <th>2020-12-24</th>\n",
       "      <td>129.977546</td>\n",
       "      <td>132.095669</td>\n",
       "      <td>129.759794</td>\n",
       "      <td>130.620895</td>\n",
       "      <td>54930100</td>\n",
       "      <td>0.0</td>\n",
       "      <td>0.0</td>\n",
       "    </tr>\n",
       "    <tr>\n",
       "      <th>2020-12-28</th>\n",
       "      <td>132.620238</td>\n",
       "      <td>135.935982</td>\n",
       "      <td>132.145134</td>\n",
       "      <td>135.292633</td>\n",
       "      <td>124486200</td>\n",
       "      <td>0.0</td>\n",
       "      <td>0.0</td>\n",
       "    </tr>\n",
       "    <tr>\n",
       "      <th>2020-12-29</th>\n",
       "      <td>136.638756</td>\n",
       "      <td>137.371182</td>\n",
       "      <td>132.966676</td>\n",
       "      <td>133.491257</td>\n",
       "      <td>121047300</td>\n",
       "      <td>0.0</td>\n",
       "      <td>0.0</td>\n",
       "    </tr>\n",
       "    <tr>\n",
       "      <th>2020-12-30</th>\n",
       "      <td>134.193998</td>\n",
       "      <td>134.599811</td>\n",
       "      <td>132.036276</td>\n",
       "      <td>132.353012</td>\n",
       "      <td>96452100</td>\n",
       "      <td>0.0</td>\n",
       "      <td>0.0</td>\n",
       "    </tr>\n",
       "  </tbody>\n",
       "</table>\n",
       "<p>2768 rows × 7 columns</p>\n",
       "</div>"
      ],
      "text/plain": [
       "                  Open        High         Low       Close     Volume  \\\n",
       "Date                                                                    \n",
       "2010-01-04    6.508334    6.540962    6.476315    6.526020  493729600   \n",
       "2010-01-05    6.544012    6.574201    6.502845    6.537303  601904800   \n",
       "2010-01-06    6.537303    6.563223    6.426609    6.433318  552160000   \n",
       "2010-01-07    6.457103    6.464726    6.374769    6.421424  477131200   \n",
       "2010-01-08    6.412887    6.464727    6.375075    6.464117  447610800   \n",
       "...                ...         ...         ...         ...        ...   \n",
       "2020-12-23  130.808976  131.076205  129.443079  129.621246   88223700   \n",
       "2020-12-24  129.977546  132.095669  129.759794  130.620895   54930100   \n",
       "2020-12-28  132.620238  135.935982  132.145134  135.292633  124486200   \n",
       "2020-12-29  136.638756  137.371182  132.966676  133.491257  121047300   \n",
       "2020-12-30  134.193998  134.599811  132.036276  132.353012   96452100   \n",
       "\n",
       "            Dividends  Stock Splits  \n",
       "Date                                 \n",
       "2010-01-04        0.0           0.0  \n",
       "2010-01-05        0.0           0.0  \n",
       "2010-01-06        0.0           0.0  \n",
       "2010-01-07        0.0           0.0  \n",
       "2010-01-08        0.0           0.0  \n",
       "...               ...           ...  \n",
       "2020-12-23        0.0           0.0  \n",
       "2020-12-24        0.0           0.0  \n",
       "2020-12-28        0.0           0.0  \n",
       "2020-12-29        0.0           0.0  \n",
       "2020-12-30        0.0           0.0  \n",
       "\n",
       "[2768 rows x 7 columns]"
      ]
     },
     "execution_count": 3,
     "metadata": {},
     "output_type": "execute_result"
    }
   ],
   "source": [
    "prices"
   ]
  },
  {
   "cell_type": "markdown",
   "metadata": {},
   "source": [
    "## Technical Analysis\n",
    "Using the ta library to do technical analysis."
   ]
  },
  {
   "cell_type": "code",
   "execution_count": 4,
   "metadata": {},
   "outputs": [
    {
     "data": {
      "text/plain": [
       "Date\n",
       "2010-01-04         NaN\n",
       "2010-01-05         NaN\n",
       "2010-01-06         NaN\n",
       "2010-01-07         NaN\n",
       "2010-01-08         NaN\n",
       "                ...   \n",
       "2020-12-23    0.923618\n",
       "2020-12-24    0.948094\n",
       "2020-12-28    0.948094\n",
       "2020-12-29    0.906884\n",
       "2020-12-30    0.794807\n",
       "Name: stochrsi_k, Length: 2768, dtype: float64"
      ]
     },
     "execution_count": 4,
     "metadata": {},
     "output_type": "execute_result"
    }
   ],
   "source": [
    "# Create Stochastic RSI K\n",
    "stoch_rsi = ta.momentum.StochRSIIndicator(prices.Close, window=20)\n",
    "stoch_k = stoch_rsi.stochrsi_k()\n",
    "stoch_d = stoch_rsi.stochrsi_d()\n",
    "stoch_k"
   ]
  },
  {
   "cell_type": "code",
   "execution_count": 5,
   "metadata": {},
   "outputs": [
    {
     "data": {
      "text/plain": [
       "Date\n",
       "2010-01-04            NaN\n",
       "2010-01-05            NaN\n",
       "2010-01-06            NaN\n",
       "2010-01-07            NaN\n",
       "2010-01-08            NaN\n",
       "                 ...     \n",
       "2020-12-23    116817020.0\n",
       "2020-12-24    114178810.0\n",
       "2020-12-28    117933450.0\n",
       "2020-12-29    122119730.0\n",
       "2020-12-30    116040570.0\n",
       "Name: sma_10, Length: 2768, dtype: float64"
      ]
     },
     "execution_count": 5,
     "metadata": {},
     "output_type": "execute_result"
    }
   ],
   "source": [
    "# Create Simple Moving Average for volumes\n",
    "volume_sma = ta.trend.sma_indicator(prices.Volume, window=10)\n",
    "volume_sma"
   ]
  },
  {
   "cell_type": "markdown",
   "metadata": {},
   "source": [
    "## Finding the Buy Signal"
   ]
  },
  {
   "cell_type": "code",
   "execution_count": 6,
   "metadata": {},
   "outputs": [
    {
     "data": {
      "text/html": [
       "<div>\n",
       "<style scoped>\n",
       "    .dataframe tbody tr th:only-of-type {\n",
       "        vertical-align: middle;\n",
       "    }\n",
       "\n",
       "    .dataframe tbody tr th {\n",
       "        vertical-align: top;\n",
       "    }\n",
       "\n",
       "    .dataframe thead th {\n",
       "        text-align: right;\n",
       "    }\n",
       "</style>\n",
       "<table border=\"1\" class=\"dataframe\">\n",
       "  <thead>\n",
       "    <tr style=\"text-align: right;\">\n",
       "      <th></th>\n",
       "      <th>10_day_low</th>\n",
       "    </tr>\n",
       "    <tr>\n",
       "      <th>Date</th>\n",
       "      <th></th>\n",
       "    </tr>\n",
       "  </thead>\n",
       "  <tbody>\n",
       "    <tr>\n",
       "      <th>2010-01-04</th>\n",
       "      <td>NaN</td>\n",
       "    </tr>\n",
       "    <tr>\n",
       "      <th>2010-01-05</th>\n",
       "      <td>NaN</td>\n",
       "    </tr>\n",
       "    <tr>\n",
       "      <th>2010-01-06</th>\n",
       "      <td>NaN</td>\n",
       "    </tr>\n",
       "    <tr>\n",
       "      <th>2010-01-07</th>\n",
       "      <td>NaN</td>\n",
       "    </tr>\n",
       "    <tr>\n",
       "      <th>2010-01-08</th>\n",
       "      <td>NaN</td>\n",
       "    </tr>\n",
       "    <tr>\n",
       "      <th>...</th>\n",
       "      <td>...</td>\n",
       "    </tr>\n",
       "    <tr>\n",
       "      <th>2020-12-23</th>\n",
       "      <td>118.921740</td>\n",
       "    </tr>\n",
       "    <tr>\n",
       "      <th>2020-12-24</th>\n",
       "      <td>119.317652</td>\n",
       "    </tr>\n",
       "    <tr>\n",
       "      <th>2020-12-28</th>\n",
       "      <td>120.297520</td>\n",
       "    </tr>\n",
       "    <tr>\n",
       "      <th>2020-12-29</th>\n",
       "      <td>122.187995</td>\n",
       "    </tr>\n",
       "    <tr>\n",
       "      <th>2020-12-30</th>\n",
       "      <td>122.187995</td>\n",
       "    </tr>\n",
       "  </tbody>\n",
       "</table>\n",
       "<p>2768 rows × 1 columns</p>\n",
       "</div>"
      ],
      "text/plain": [
       "            10_day_low\n",
       "Date                  \n",
       "2010-01-04         NaN\n",
       "2010-01-05         NaN\n",
       "2010-01-06         NaN\n",
       "2010-01-07         NaN\n",
       "2010-01-08         NaN\n",
       "...                ...\n",
       "2020-12-23  118.921740\n",
       "2020-12-24  119.317652\n",
       "2020-12-28  120.297520\n",
       "2020-12-29  122.187995\n",
       "2020-12-30  122.187995\n",
       "\n",
       "[2768 rows x 1 columns]"
      ]
     },
     "execution_count": 6,
     "metadata": {},
     "output_type": "execute_result"
    }
   ],
   "source": [
    "# Finding lows for 200 period, 100 period, 50 period and 20 period\n",
    "period_range = [10]\n",
    "low = prices.Low\n",
    "# Simple function to find the lowest low in n periods\n",
    "def get_lowest_low(s, length):\n",
    "  return s.rolling(length).min()\n",
    "# Getting a list of lows in different periods\n",
    "lows = [get_lowest_low(low, _) for _ in period_range]\n",
    "# Turn the list into a pandas DataFrame with concat\n",
    "lows = pd.concat(lows, axis=1)\n",
    "lows.columns = [str(_) + '_day_low' for _ in period_range]\n",
    "# Check out lows\n",
    "lows"
   ]
  },
  {
   "cell_type": "code",
   "execution_count": 7,
   "metadata": {},
   "outputs": [
    {
     "data": {
      "text/html": [
       "<div>\n",
       "<style scoped>\n",
       "    .dataframe tbody tr th:only-of-type {\n",
       "        vertical-align: middle;\n",
       "    }\n",
       "\n",
       "    .dataframe tbody tr th {\n",
       "        vertical-align: top;\n",
       "    }\n",
       "\n",
       "    .dataframe thead th {\n",
       "        text-align: right;\n",
       "    }\n",
       "</style>\n",
       "<table border=\"1\" class=\"dataframe\">\n",
       "  <thead>\n",
       "    <tr style=\"text-align: right;\">\n",
       "      <th></th>\n",
       "      <th>Low</th>\n",
       "      <th>stochrsi_k</th>\n",
       "      <th>stochrsi_d</th>\n",
       "      <th>10_day_low</th>\n",
       "    </tr>\n",
       "    <tr>\n",
       "      <th>Date</th>\n",
       "      <th></th>\n",
       "      <th></th>\n",
       "      <th></th>\n",
       "      <th></th>\n",
       "    </tr>\n",
       "  </thead>\n",
       "  <tbody>\n",
       "    <tr>\n",
       "      <th>2010-03-05</th>\n",
       "      <td>6.544926</td>\n",
       "      <td>1.000000</td>\n",
       "      <td>0.998139</td>\n",
       "      <td>5.967979</td>\n",
       "    </tr>\n",
       "    <tr>\n",
       "      <th>2010-03-08</th>\n",
       "      <td>6.655315</td>\n",
       "      <td>1.000000</td>\n",
       "      <td>0.999069</td>\n",
       "      <td>5.967979</td>\n",
       "    </tr>\n",
       "    <tr>\n",
       "      <th>2010-03-09</th>\n",
       "      <td>6.644337</td>\n",
       "      <td>1.000000</td>\n",
       "      <td>1.000000</td>\n",
       "      <td>6.003965</td>\n",
       "    </tr>\n",
       "    <tr>\n",
       "      <th>2010-03-10</th>\n",
       "      <td>6.806259</td>\n",
       "      <td>1.000000</td>\n",
       "      <td>1.000000</td>\n",
       "      <td>6.003965</td>\n",
       "    </tr>\n",
       "    <tr>\n",
       "      <th>2010-03-11</th>\n",
       "      <td>6.809920</td>\n",
       "      <td>1.000000</td>\n",
       "      <td>1.000000</td>\n",
       "      <td>6.159788</td>\n",
       "    </tr>\n",
       "    <tr>\n",
       "      <th>...</th>\n",
       "      <td>...</td>\n",
       "      <td>...</td>\n",
       "      <td>...</td>\n",
       "      <td>...</td>\n",
       "    </tr>\n",
       "    <tr>\n",
       "      <th>2020-12-23</th>\n",
       "      <td>129.443079</td>\n",
       "      <td>0.923618</td>\n",
       "      <td>0.896751</td>\n",
       "      <td>118.921740</td>\n",
       "    </tr>\n",
       "    <tr>\n",
       "      <th>2020-12-24</th>\n",
       "      <td>129.759794</td>\n",
       "      <td>0.948094</td>\n",
       "      <td>0.918343</td>\n",
       "      <td>119.317652</td>\n",
       "    </tr>\n",
       "    <tr>\n",
       "      <th>2020-12-28</th>\n",
       "      <td>132.145134</td>\n",
       "      <td>0.948094</td>\n",
       "      <td>0.939935</td>\n",
       "      <td>120.297520</td>\n",
       "    </tr>\n",
       "    <tr>\n",
       "      <th>2020-12-29</th>\n",
       "      <td>132.966676</td>\n",
       "      <td>0.906884</td>\n",
       "      <td>0.934357</td>\n",
       "      <td>122.187995</td>\n",
       "    </tr>\n",
       "    <tr>\n",
       "      <th>2020-12-30</th>\n",
       "      <td>132.036276</td>\n",
       "      <td>0.794807</td>\n",
       "      <td>0.883262</td>\n",
       "      <td>122.187995</td>\n",
       "    </tr>\n",
       "  </tbody>\n",
       "</table>\n",
       "<p>2726 rows × 4 columns</p>\n",
       "</div>"
      ],
      "text/plain": [
       "                   Low  stochrsi_k  stochrsi_d  10_day_low\n",
       "Date                                                      \n",
       "2010-03-05    6.544926    1.000000    0.998139    5.967979\n",
       "2010-03-08    6.655315    1.000000    0.999069    5.967979\n",
       "2010-03-09    6.644337    1.000000    1.000000    6.003965\n",
       "2010-03-10    6.806259    1.000000    1.000000    6.003965\n",
       "2010-03-11    6.809920    1.000000    1.000000    6.159788\n",
       "...                ...         ...         ...         ...\n",
       "2020-12-23  129.443079    0.923618    0.896751  118.921740\n",
       "2020-12-24  129.759794    0.948094    0.918343  119.317652\n",
       "2020-12-28  132.145134    0.948094    0.939935  120.297520\n",
       "2020-12-29  132.966676    0.906884    0.934357  122.187995\n",
       "2020-12-30  132.036276    0.794807    0.883262  122.187995\n",
       "\n",
       "[2726 rows x 4 columns]"
      ]
     },
     "execution_count": 7,
     "metadata": {},
     "output_type": "execute_result"
    }
   ],
   "source": [
    "# Concat Low price with Stochastic RSI K and different period lows\n",
    "columns = ['Low', 'StochRSI_K', 'StochRSI_D'] + lows.columns.tolist()\n",
    "ndf = pd.concat([prices.Low, stoch_k, stoch_d, lows], axis=1)\n",
    "# Dropna, with inplace=True so do have to reassign to the same variable\n",
    "ndf.dropna(inplace=True)\n",
    "# check the ndf \n",
    "ndf"
   ]
  },
  {
   "cell_type": "markdown",
   "metadata": {},
   "source": [
    "This is the logic for getting the buy signal for back test."
   ]
  },
  {
   "cell_type": "code",
   "execution_count": 8,
   "metadata": {},
   "outputs": [
    {
     "name": "stdout",
     "output_type": "stream",
     "text": [
      "There are 346 new period low in the dataframe of 2726 period.\n"
     ]
    }
   ],
   "source": [
    "# Applying the strategy:\n",
    "# Check if Stochastic RSI K is lower than 20% (.2), \n",
    "# Stochastic RSI D is lower than 20% (.2) and \n",
    "# Stochastic RSI K less than Stochastic RSI D\n",
    "below = .8\n",
    "low_stoch_rsi = (ndf.stochrsi_k < below) &  (ndf.stochrsi_d < below) & (ndf.stochrsi_k < ndf.stochrsi_d)\n",
    "# Check if the volume is above the volume sma\n",
    "good_volume = prices.Volume > volume_sma\n",
    "# Check if the price is one of the lows\n",
    "# Using numpy's check to aviod pandas error\n",
    "is_new_low = np.array(ndf.iloc[:, 2:]) >= np.array(ndf.loc[:, ['Low']])\n",
    "# Check lowest is lower than more than n periods\n",
    "is_new_low = is_new_low.sum(1) > 0\n",
    "print('There are {} new period low in the dataframe of {} period.'.format(\n",
    "  is_new_low.sum(), len(ndf)))"
   ]
  },
  {
   "cell_type": "code",
   "execution_count": 9,
   "metadata": {},
   "outputs": [
    {
     "name": "stdout",
     "output_type": "stream",
     "text": [
      "There are 286 signals.\n"
     ]
    }
   ],
   "source": [
    "# Check for days of possible buys \n",
    "# If the Stochastic RSI K is lower then 20% and has an new low\n",
    "has_hit = pd.concat([low_stoch_rsi, \n",
    "                     pd.Series(is_new_low, index=ndf.index)], \n",
    "                   axis=1).sum(1) > 1\n",
    "signals = np.arange(len(has_hit))[has_hit]\n",
    "print('There are {} signals.'.format(len(signals)))"
   ]
  },
  {
   "cell_type": "markdown",
   "metadata": {},
   "source": [
    "## Back Test"
   ]
  },
  {
   "cell_type": "code",
   "execution_count": 10,
   "metadata": {},
   "outputs": [],
   "source": [
    "# Triming prices to the same length as ndf\n",
    "index = ndf.index\n",
    "nprices = prices.loc[index, :]\n",
    "ngood_volume = good_volume.loc[index]"
   ]
  },
  {
   "cell_type": "code",
   "execution_count": 11,
   "metadata": {},
   "outputs": [],
   "source": [
    "# Backtest loop\n",
    "is_holding = False\n",
    "buy_at = 0\n",
    "stop_limit = 0\n",
    "stop_limit_pct = 1 - .1\n",
    "sell_limit = 0\n",
    "sell_limit_pct = 1 + .5\n",
    "current_idx = 0\n",
    "wins = []\n",
    "num_of_trades = 0\n",
    "for s in signals:\n",
    "  # Continue when current index is greater s\n",
    "  # was still holding\n",
    "  if current_idx > s:\n",
    "    continue\n",
    "  # When there is a signal buy at close\n",
    "  # getting the next price data and setting the stop limit and sell limit\n",
    "  data = nprices.iloc[s:, :5]\n",
    "  for i, (_, row) in enumerate(data.iloc[1:].iterrows()):\n",
    "    i = i + 1\n",
    "    if not is_holding:\n",
    "      if i > 5:\n",
    "        break\n",
    "      volume = ngood_volume.iloc[s + i]\n",
    "      # Buy when good volume\n",
    "      if volume:\n",
    "        buy_at = row.Close\n",
    "        current_high = row.High\n",
    "        stop_limit = current_high * stop_limit_pct\n",
    "        sell_limit = buy_at * sell_limit_pct\n",
    "        is_holding = True\n",
    "      continue\n",
    "    # check sell conditions\n",
    "    is_sell = False\n",
    "    if row.Open < stop_limit:\n",
    "      # if open prices is less than stop limit it's a sell\n",
    "      wp = row.Open / buy_at - 1\n",
    "      is_sell = True\n",
    "    elif row.Low < stop_limit:\n",
    "      # if low prices is less than stop limit, stop limit has been triggered\n",
    "      wp = stop_limit / buy_at - 1\n",
    "      is_sell = True\n",
    "    elif row.High > sell_limit:\n",
    "      # Sell when sell limit is reached\n",
    "      wp = sell_limit / buy_at - 1\n",
    "      is_sell = True\n",
    "    elif i+1 == len(data):\n",
    "      wp = row.Close / buy_at - 1\n",
    "      is_sell = True\n",
    "    \n",
    "    if is_sell:\n",
    "      # Selling logics\n",
    "      wins.append(wp)\n",
    "      current_idx = s + i\n",
    "      num_of_trades += 1\n",
    "      is_holding = False\n",
    "      break\n",
    "\n",
    "    # Update stop limit when there are new highs\n",
    "    if row.High > current_high:\n",
    "      stop_limit = row.High * stop_limit_pct\n",
    "      sell_limit = row.High * sell_limit_pct\n",
    "      current_high = row.High  "
   ]
  },
  {
   "cell_type": "markdown",
   "metadata": {},
   "source": [
    "## Statistics"
   ]
  },
  {
   "cell_type": "code",
   "execution_count": 12,
   "metadata": {},
   "outputs": [
    {
     "name": "stdout",
     "output_type": "stream",
     "text": [
      "This Strategy has a gaining rate of : 1281.20%\n",
      "Total trades of 52.\n",
      "Strategy has a win rate of 50.00% \n",
      "with an average win percentage of 20.07% \n",
      "with a biggest win of 60.81%\n",
      "with an average lost percentage of -6.66% \n",
      "with a biggest lost of -12.96%\n"
     ]
    }
   ],
   "source": [
    "# Checking the strategy gain\n",
    "gains = np.array(wins)\n",
    "strategy_gain = np.prod(gains + 1) - 1\n",
    "print(f'This Strategy has a gaining rate of : {strategy_gain*100:.2f}%')\n",
    "print(f'Total trades of {num_of_trades}.') \n",
    "win_rate = len(gains[gains > 0]) / len(gains)\n",
    "avg_win_pct = gains[gains > 0].mean() if win_rate != 0 else 0\n",
    "biggest_win = gains[gains > 0].max() if win_rate != 0 else 0\n",
    "avg_lost_pct = gains[gains < 0].mean() if win_rate != 1 else 0\n",
    "biggest_lost = gains[gains < 0].min() if win_rate != 1 else 0\n",
    "\n",
    "print(f'''Strategy has a win rate of {win_rate*100:.2f}% \n",
    "with an average win percentage of {avg_win_pct*100:.2f}% \n",
    "with a biggest win of {biggest_win*100:.2f}%\n",
    "with an average lost percentage of {avg_lost_pct*100:.2f}% \n",
    "with a biggest lost of {biggest_lost*100:.2f}%''')"
   ]
  },
  {
   "cell_type": "code",
   "execution_count": 13,
   "metadata": {},
   "outputs": [
    {
     "name": "stdout",
     "output_type": "stream",
     "text": [
      "The static gain of AAPL is :  1882.32%\n"
     ]
    }
   ],
   "source": [
    "# Seeing how much can be gain through moment\n",
    "static_gain = nprices.Close[-1] / nprices.Close[0] - 1\n",
    "print(f'The static gain of {symbol} is :  {static_gain*100:.2f}%') "
   ]
  },
  {
   "cell_type": "code",
   "execution_count": 14,
   "metadata": {},
   "outputs": [
    {
     "name": "stdout",
     "output_type": "stream",
     "text": [
      "The maximum gain of AAPL is :  1957.48%\n"
     ]
    }
   ],
   "source": [
    "# Seeing how much can be gain when sell at the highest price\n",
    "highest_gain = nprices.High.max() / nprices.Close[0] - 1\n",
    "print(f'The maximum gain of {symbol} is :  {highest_gain*100:.2f}%') "
   ]
  },
  {
   "cell_type": "markdown",
   "metadata": {},
   "source": [
    "As you can see this strategy has an advantage to the base strategy, but we can even make it more profitable with some modify to certain parameters. \n",
    "\n",
    "The parameters are:\n",
    " - below: for setting or adjusting which is the oversold area.\n",
    " - stop_limit_pct: for setting the risk level for either a small or larger gain.\n",
    " - sell_limit_pct; for a set percentage gain"
   ]
  },
  {
   "cell_type": "code",
   "execution_count": null,
   "metadata": {},
   "outputs": [],
   "source": []
  }
 ],
 "metadata": {
  "kernelspec": {
   "display_name": "Python 3.10.5 ('.venv': venv)",
   "language": "python",
   "name": "python3"
  },
  "language_info": {
   "codemirror_mode": {
    "name": "ipython",
    "version": 3
   },
   "file_extension": ".py",
   "mimetype": "text/x-python",
   "name": "python",
   "nbconvert_exporter": "python",
   "pygments_lexer": "ipython3",
   "version": "3.10.5"
  },
  "orig_nbformat": 4,
  "vscode": {
   "interpreter": {
    "hash": "9589969532b4a0ceedb683b328b037339f9e930ae86c89b54a564bc9c4346a1d"
   }
  }
 },
 "nbformat": 4,
 "nbformat_minor": 2
}
